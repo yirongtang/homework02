{
 "cells": [
  {
   "cell_type": "markdown",
   "metadata": {},
   "source": [
    "## Introduction to Python Exercises\n",
    "\n",
    "Before you turn this problem in, make sure everything runs as expected. First, restart the kernel (in the menubar, select Kernel → Restart) and then run all cells (in the menubar, select Cell → Run All).  You can speak with others regarding the assignment but all work must be your own. \n",
    "\n",
    "\n",
    "### This is a 30 point assignment graded from answers to questions and automated tests that should be run at the bottom. Be sure to clearly label all of your answers and commit final tests at the end.  \n"
   ]
  },
  {
   "cell_type": "code",
   "execution_count": 3,
   "metadata": {
    "collapsed": true
   },
   "outputs": [],
   "source": [
    "NAME = \"Yirong Tang\"\n",
    "COLLABORATORS = [\"Me\"]  #You can speak with others regarding the assignment, but all typed work must be your own."
   ]
  },
  {
   "cell_type": "code",
   "execution_count": 4,
   "metadata": {
    "collapsed": true
   },
   "outputs": [],
   "source": [
    "#For some things you might need to do this in order to get tests to work. \n",
    "#%%bash \n",
    "#conda config --add channels conda-forge\n",
    "#conda install --quiet ipython_unittest"
   ]
  },
  {
   "cell_type": "markdown",
   "metadata": {},
   "source": [
    "### This Loads a Testing Array \n",
    "- This runs tests against your b array.  If you complete the assingment correctly, you will pass the tests. \n",
    "- **If you attempt to fake passing the tests you will receive a 0 on the assignment and it will be considered an ethical violation.**"
   ]
  },
  {
   "cell_type": "code",
   "execution_count": 5,
   "metadata": {
    "collapsed": true
   },
   "outputs": [],
   "source": [
    "%load_ext ipython_unittest\n",
    "#This runs tests against your b array.  If you complete the assingment correctly, you will pass the tests. "
   ]
  },
  {
   "cell_type": "markdown",
   "metadata": {
    "slideshow": {
     "slide_type": "slide"
    }
   },
   "source": [
    "## Exercise-Packages\n",
    "\n",
    "This creates an Numpy array. Numpy is a common package that we will use to work with arrays. You can read more about Numpy [here](http://www.numpy.org/). \n",
    "\n",
    "`a = numpy.array([2,3,4])\n",
    "print(a)`\n",
    "\n",
    "To get this to work, you will have to import the Numpy package.  \n",
    "\n",
    "(1) Verify that Numpy is installed. How did you know?  Describe how you would you install it if it wasn't installed?\n",
    "\n",
    "(2) Provide the code to import numpy so that the code below works.  \n",
    "\n",
    "(3) Import numpy as np and create an array `E2` with values `5,6,7,8`."
   ]
  },
  {
   "cell_type": "code",
   "execution_count": 6,
   "metadata": {
    "scrolled": true
   },
   "outputs": [
    {
     "name": "stdout",
     "output_type": "stream",
     "text": [
      "Question 1: we can test using the following code:\n",
      "Question 2&3:\n",
      "[2 3 4]\n",
      "[5 6 7 8]\n"
     ]
    }
   ],
   "source": [
    "#(1)\n",
    "print('Question 1: we can test using the following code:')\n",
    "try: \n",
    "      import numpy    \n",
    "except ImportError:\n",
    "      print ('numpy is not installed')\n",
    "\n",
    "#(2)(3)\n",
    "\n",
    "print('Question 2&3:' )\n",
    "\n",
    "import numpy\n",
    "a = numpy.array([2,3,4])\n",
    "print(a)\n",
    "\n",
    "import numpy as np\n",
    "E2 = np.array([5,6,7,8])\n",
    "print(E2)"
   ]
  },
  {
   "cell_type": "markdown",
   "metadata": {},
   "source": [
    "## Exercise - Operations on Variables\n",
    "\n",
    "(4) Describe what happens when you multiply an integer times a boolean? What is the resulting type? Provide examples.\n",
    "\n",
    "(5) Describe happens when you try to multiply an integer value times a null?\n",
    "\n",
    "(6) Take 5 to the power of 4 and assign it to a variable `E3` using an embeded function. "
   ]
  },
  {
   "cell_type": "code",
   "execution_count": 7,
   "metadata": {},
   "outputs": [
    {
     "data": {
      "application/javascript": [
       "$(':has(> #dojo-timer-time)').css(\"background-color\",\"yellow\");"
      ],
      "text/plain": [
       "<IPython.core.display.Javascript object>"
      ]
     },
     "metadata": {},
     "output_type": "display_data"
    },
    {
     "name": "stdout",
     "output_type": "stream",
     "text": [
      "Question 4:\n",
      "multiply an integer with boolean [0 2 3]\n",
      "c type is: <class 'numpy.ndarray'>\n",
      "\n",
      "\n",
      "Question 5:\n",
      "a2 type: <class 'int'>\n",
      "b2 type: <class 'NoneType'>\n",
      "c2=a2*b2\n",
      "When try to multiply an integer value with a null it will return an error\n",
      "\n",
      "Question 6:\n",
      "the result of E3: 625\n",
      "\n",
      "\n",
      "...\n",
      "----------------------------------------------------------------------\n",
      "Ran 3 tests in 0.010s\n",
      "\n",
      "OK\n"
     ]
    },
    {
     "data": {
      "application/javascript": [
       "$(':has(> #dojo-timer-time)').css(\"background-color\",\"lightgreen\");"
      ],
      "text/plain": [
       "<IPython.core.display.Javascript object>"
      ]
     },
     "metadata": {},
     "output_type": "display_data"
    },
    {
     "data": {
      "text/plain": [
       "<unittest.runner.TextTestResult run=3 errors=0 failures=0>"
      ]
     },
     "execution_count": 7,
     "metadata": {},
     "output_type": "execute_result"
    }
   ],
   "source": [
    "%%unittest_main\n",
    "\n",
    "# (4)\n",
    "\n",
    "a1 = np.array([1,2,3],dtype=int)\n",
    "b1 = np.array([0,2,3],dtype=bool)\n",
    "c1 = np.multiply(a1,b1)\n",
    "\n",
    "print('Question 4:')\n",
    "print('multiply an integer with boolean',c1) \n",
    "print('c type is:',type(c1))\n",
    "\n",
    "print('\\n')\n",
    "\n",
    "\n",
    "# (5)\n",
    "print('Question 5:')\n",
    "a2=1\n",
    "print('a2 type:',type(a2))\n",
    "b2=None\n",
    "print('b2 type:',type(b2))\n",
    "print('c2=a2*b2') \n",
    "print('When try to multiply an integer value with a null it will return an error\\n') \n",
    "\n",
    "# (6)\n",
    "print('Question 6:')\n",
    "E3=5**4\n",
    "print('the result of E3:',E3)\n",
    "print('\\n')\n",
    "\n",
    "class TestPackages(unittest.TestCase):\n",
    "    def test_packages1(self):\n",
    "        self.assertTrue((a == np.array([2,3,4])).all())\n",
    "    def test_packages2(self):\n",
    "        self.assertTrue((E2 == np.array([5,6,7,8])).all())\n",
    "    def test_variables(self):\n",
    "        self.assertTrue(E3 == 625)"
   ]
  },
  {
   "cell_type": "markdown",
   "metadata": {},
   "source": [
    "## Exercise-Lists\n",
    "Hint: [This list of functions on lists is useful.](https://docs.python.org/3/tutorial/datastructures.html)\n",
    "\n",
    "(7) Create a list `elists1` with the following values (1,2,3,4,5).<br>\n",
    "\n",
    "(8) Create a new list `elists2` by first creating a copy of `elist1` and then reversing the order.<br>\n",
    "\n",
    "(9) Create a new list `elists3` by first creating a copy of `elist1` and then adding 7 8 9 to the end. *(Hint: Search for a different function if appending doesn't work.)* <br>\n",
    "\n",
    "(10) Create a new list `elists4` by first creating a copy of `elist3` and then insert 6 between 5 and 7. \n",
    "\n",
    "\n",
    "\n",
    "\n"
   ]
  },
  {
   "cell_type": "code",
   "execution_count": 8,
   "metadata": {},
   "outputs": [
    {
     "data": {
      "application/javascript": [
       "$(':has(> #dojo-timer-time)').css(\"background-color\",\"yellow\");"
      ],
      "text/plain": [
       "<IPython.core.display.Javascript object>"
      ]
     },
     "metadata": {},
     "output_type": "display_data"
    },
    {
     "name": "stdout",
     "output_type": "stream",
     "text": [
      "Question7:\n",
      "[1, 2, 3, 4, 5]\n",
      "Question8:\n",
      "[5, 4, 3, 2, 1]\n",
      "Question9:\n",
      "[1, 2, 3, 4, 5, 7, 8, 9]\n",
      "Question10:\n",
      "[1, 2, 3, 4, 5, 6, 7, 8, 9]\n",
      ".....\n",
      "----------------------------------------------------------------------\n",
      "Ran 5 tests in 0.008s\n",
      "\n",
      "OK\n"
     ]
    },
    {
     "data": {
      "application/javascript": [
       "$(':has(> #dojo-timer-time)').css(\"background-color\",\"lightgreen\");"
      ],
      "text/plain": [
       "<IPython.core.display.Javascript object>"
      ]
     },
     "metadata": {},
     "output_type": "display_data"
    },
    {
     "data": {
      "text/plain": [
       "<unittest.runner.TextTestResult run=5 errors=0 failures=0>"
      ]
     },
     "execution_count": 8,
     "metadata": {},
     "output_type": "execute_result"
    }
   ],
   "source": [
    "%%unittest_main\n",
    "#(7)\n",
    "print('Question7:')\n",
    "elists1=[1,2,3,4,5]\n",
    "print(elists1)\n",
    "\n",
    "#(8)\n",
    "print('Question8:')\n",
    "elists2=elists1.copy()\n",
    "elists2.reverse()\n",
    "print(elists2)\n",
    "\n",
    "#(9)\n",
    "print('Question9:')\n",
    "elists3=elists1.copy()\n",
    "elists3.append(7)\n",
    "elists3.append(8)\n",
    "elists3.append(9)\n",
    "print(elists3)\n",
    "\n",
    "#(10)\n",
    "print('Question10:')\n",
    "elists4=elists3.copy()\n",
    "elists4.insert(5,6)\n",
    "print(elists4)\n",
    "\n",
    "\n",
    "class TestLists(unittest.TestCase):\n",
    "    def test_list1(self):\n",
    "        self.assertTrue(elists1 == [1,2,3,4,5])\n",
    "    def test_list1b(self):\n",
    "        self.assertTrue(type(elists1) == type([1,2,3,4,5]))\n",
    "    def test_list2b(self):\n",
    "        self.assertTrue(elists2 == [5,4,3,2,1])\n",
    "    def test_list3(self):\n",
    "        self.assertTrue(elists3 == [1,2,3,4,5,7,8,9])\n",
    "    def test_list4(self):\n",
    "        self.assertTrue(elists4 == [1,2,3,4,5,6,7,8,9])\n"
   ]
  },
  {
   "cell_type": "markdown",
   "metadata": {},
   "source": [
    "## Exercise-Sets/Dictionary\n",
    "Hint: [This list of functions on lists is useful.](https://docs.python.org/3/tutorial/datastructures.html)\n",
    "\n",
    "(11) Create a set `eset1` with the following values (1,2,3,4,5).\n",
    "\n",
    "(12) Create a new set `eset2` the following values (1,3,6).\n",
    "\n",
    "(13) Create a new set `eset3` that is `eset1-eset2`.\n",
    "\n",
    "(14) Create a new set `eset4` that is the union of `eset1+eset2`.\n",
    "\n",
    "(15) Create a new set `eset5` that includes values that are in both `eset1` and `eset2` (intersection).\n",
    "\n",
    "(16) Create a new dict `edict1` with the following keys and associated values: st1=45; st2=32; st3=40; st4=31.\n",
    "\n",
    "(17) Create a new variable edict2 from edict 1 where the key is st3."
   ]
  },
  {
   "cell_type": "code",
   "execution_count": 9,
   "metadata": {},
   "outputs": [
    {
     "data": {
      "application/javascript": [
       "$(':has(> #dojo-timer-time)').css(\"background-color\",\"yellow\");"
      ],
      "text/plain": [
       "<IPython.core.display.Javascript object>"
      ]
     },
     "metadata": {},
     "output_type": "display_data"
    },
    {
     "name": "stdout",
     "output_type": "stream",
     "text": [
      "Question11:\n",
      "{1, 2, 3, 4, 5} <class 'set'>\n",
      "Question12:\n",
      "{1, 3, 6}\n",
      "Question13:\n",
      "{2, 4, 5}\n",
      "Question14:\n",
      "{1, 2, 3, 4, 5, 6}\n",
      "Question15:\n",
      "{1, 3}\n",
      "Question16:\n",
      "{'st1': 45, 'st2': 32, 'st3': 40, 'st4': 31}\n",
      "Question17:\n",
      "40\n",
      ".........\n",
      "----------------------------------------------------------------------\n",
      "Ran 9 tests in 0.017s\n",
      "\n",
      "OK\n"
     ]
    },
    {
     "data": {
      "application/javascript": [
       "$(':has(> #dojo-timer-time)').css(\"background-color\",\"lightgreen\");"
      ],
      "text/plain": [
       "<IPython.core.display.Javascript object>"
      ]
     },
     "metadata": {},
     "output_type": "display_data"
    },
    {
     "data": {
      "text/plain": [
       "<unittest.runner.TextTestResult run=9 errors=0 failures=0>"
      ]
     },
     "execution_count": 9,
     "metadata": {},
     "output_type": "execute_result"
    }
   ],
   "source": [
    "%%unittest_main\n",
    "\n",
    "#(11)\n",
    "print('Question11:')\n",
    "eset1 = set([1,2,3,4,5])\n",
    "print(eset1,type(eset1))\n",
    "\n",
    "#(12)\n",
    "print('Question12:')\n",
    "eset2 = set([1,3,6])\n",
    "print(eset2)\n",
    "\n",
    "#(13)\n",
    "print('Question13:')\n",
    "eset3 = eset1-eset2\n",
    "print(eset3)\n",
    "\n",
    "#(14)\n",
    "print('Question14:')\n",
    "eset4 = eset1.union(eset2)\n",
    "print(eset4)\n",
    "\n",
    "#(15)\n",
    "print('Question15:')\n",
    "eset5 = eset1.intersection(eset2)\n",
    "print(eset5)\n",
    "\n",
    "#(16)\n",
    "print('Question16:')\n",
    "edict1={'st1':45,'st2':32,'st3':40,'st4':31}\n",
    "print(edict1)\n",
    "\n",
    "#(17)\n",
    "print('Question17:')\n",
    "edict2 = edict1['st3']\n",
    "print(edict2)\n",
    "\n",
    "class TestSetsDicts(unittest.TestCase):\n",
    "    def test_sets1(self):\n",
    "        self.assertTrue(eset1 == {1,2,3,4,5})\n",
    "    def test_sets1b(self):\n",
    "        self.assertTrue(type(eset1) == type({1,2,3,4,5}))\n",
    "    def test_sets2b(self):\n",
    "         self.assertTrue(eset2 == {1,3,6})\n",
    "    def test_sets3(self):\n",
    "        self.assertTrue(eset3 == {2,4,5})\n",
    "    def test_set4(self):\n",
    "        self.assertTrue(eset4 == {1,2,3,4,5,6})\n",
    "    def test_set5(self):\n",
    "        self.assertTrue(eset5 == {1,3})\n",
    "    def test_dict1(self):\n",
    "        self.assertTrue(edict1 == {'st1' : 45, 'st2' : 32, 'st3' : 40, 'st4' : 31})\n",
    "    def test_dict1b(self):\n",
    "        self.assertTrue(type(edict1) == type({'st1' : 45, 'st2' : 32, 'st3' : 40, 'st4' : 31}))\n",
    "    def test_dict2(self):\n",
    "        self.assertTrue(edict2 == 40)\n",
    "\n"
   ]
  },
  {
   "cell_type": "markdown",
   "metadata": {},
   "source": [
    "# Exercise-Numpy Array\n",
    "\n",
    "(18) Create a new numpy array `nparray1` that is 3x3 and all the number 3 (should be integer type).\n",
    "\n",
    "(19) Create a new variable `nparray1sum` that sums all of column 0.\n",
    "\n",
    "(20) Create a new variable `nparray1mean` that takes the average of column 0. \n",
    "\n",
    "(21) Create a new numpy array `nparray2` that selects only column 1 of `nparray1`.\n",
    "\n",
    "(22) Create a new numpy array `nparray3` that is equal to `nparray1` times 2 (you should not alter `nparray1`).\n",
    "\n",
    "(23) Create a new numpy array `nparray4` that is a verticle stack of `nparray1` and `nparray3`. "
   ]
  },
  {
   "cell_type": "code",
   "execution_count": 10,
   "metadata": {},
   "outputs": [
    {
     "data": {
      "application/javascript": [
       "$(':has(> #dojo-timer-time)').css(\"background-color\",\"yellow\");"
      ],
      "text/plain": [
       "<IPython.core.display.Javascript object>"
      ]
     },
     "metadata": {},
     "output_type": "display_data"
    },
    {
     "name": "stdout",
     "output_type": "stream",
     "text": [
      "Question18:\n",
      "[[3 3 3]\n",
      " [3 3 3]\n",
      " [3 3 3]]\n",
      "Question19:\n",
      "[[3]\n",
      " [3]\n",
      " [3]]\n",
      "9\n",
      "Question20:\n",
      "3.0\n",
      "Question21:\n",
      "[[3]\n",
      " [3]\n",
      " [3]]\n",
      "Question22:\n",
      "[[6 6 6]\n",
      " [6 6 6]\n",
      " [6 6 6]]\n",
      "Question23:\n",
      "[[3 3 3]\n",
      " [3 3 3]\n",
      " [3 3 3]\n",
      " [6 6 6]\n",
      " [6 6 6]\n",
      " [6 6 6]]\n",
      "......\n",
      "----------------------------------------------------------------------\n",
      "Ran 6 tests in 0.010s\n",
      "\n",
      "OK\n"
     ]
    },
    {
     "data": {
      "application/javascript": [
       "$(':has(> #dojo-timer-time)').css(\"background-color\",\"lightgreen\");"
      ],
      "text/plain": [
       "<IPython.core.display.Javascript object>"
      ]
     },
     "metadata": {},
     "output_type": "display_data"
    },
    {
     "data": {
      "text/plain": [
       "<unittest.runner.TextTestResult run=6 errors=0 failures=0>"
      ]
     },
     "execution_count": 10,
     "metadata": {},
     "output_type": "execute_result"
    }
   ],
   "source": [
    "%%unittest_main\n",
    "\n",
    "#(18)\n",
    "\n",
    "print('Question18:')\n",
    "nparray1 = np.full((3,3),3,dtype=int)\n",
    "#nparray1=np.arange(0,9,1).reshape(3,3)\n",
    "\n",
    "print(nparray1)\n",
    "\n",
    "#(19)\n",
    "print('Question19:')\n",
    "\n",
    "nparray1sum = nparray1[::,0:1:].sum()\n",
    "print(nparray1[::,0:1:])\n",
    "print(nparray1sum)\n",
    "\n",
    "#(20)\n",
    "print('Question20:')\n",
    "nparray1mean = nparray1[:,0].mean()\n",
    "print(nparray1mean)\n",
    "\n",
    "#(21)\n",
    "print('Question21:')\n",
    "nparray2=nparray1[::,1:2:]\n",
    "print(nparray2)\n",
    "\n",
    "#(22)\n",
    "print('Question22:')\n",
    "nparray3 = nparray1*2\n",
    "print(nparray3)\n",
    "\n",
    "#(23)\n",
    "print('Question23:')\n",
    "nparray4=np.vstack([nparray1,nparray3])\n",
    "print(nparray4)\n",
    "\n",
    "class TestNumpy(unittest.TestCase):\n",
    "    def test_numpy1(self):\n",
    "        self.assertTrue((nparray1 == np.full((3, 3), 3, dtype=int)).all())\n",
    "    def test_numpy2(self):\n",
    "         self.assertTrue(nparray1sum == 9)\n",
    "    def test_numpy3(self):\n",
    "        self.assertTrue(nparray1mean == 3.0)\n",
    "    def test_numpy4(self):\n",
    "        self.assertTrue((nparray2 == np.array([3,3,3])).all())\n",
    "    def test_numpy5(self):\n",
    "        self.assertTrue((nparray3 == np.full((3, 3), 6, dtype=int)).all())\n",
    "    def test_numpy6(self):\n",
    "        stacked=np.array([3,3,3,3,3,3,3,3,3,6,6,6,6,6,6,6,6,6]).reshape(6,3)\n",
    "        self.assertTrue((nparray4 == stacked).all())\n"
   ]
  },
  {
   "cell_type": "markdown",
   "metadata": {},
   "source": [
    "## Exercise-Pandas\n",
    "(24) Using, the Iris dataset, find the mean of the sepalLength and assign it to the `sepalLengthMean` variable using the dataframe returned from the describe command.  \n",
    "\n",
    "(25) Create a new dataframe `iristrain` that includes the first 75 rows of the iris dataframe.\n",
    "\n",
    "(26) Create a new dataframe `iristest` that includes the last 75 rows of the iris dataframe.\n",
    "\n",
    "(27) Create a new series `sepalLength` from the `sepalLength` column of the iris dataframe. \n",
    "\n"
   ]
  },
  {
   "cell_type": "code",
   "execution_count": 37,
   "metadata": {},
   "outputs": [
    {
     "data": {
      "application/javascript": [
       "$(':has(> #dojo-timer-time)').css(\"background-color\",\"yellow\");"
      ],
      "text/plain": [
       "<IPython.core.display.Javascript object>"
      ]
     },
     "metadata": {},
     "output_type": "display_data"
    },
    {
     "name": "stdout",
     "output_type": "stream",
     "text": [
      "......\n",
      "----------------------------------------------------------------------\n",
      "Ran 6 tests in 0.063s\n",
      "\n",
      "OK\n"
     ]
    },
    {
     "data": {
      "application/javascript": [
       "$(':has(> #dojo-timer-time)').css(\"background-color\",\"lightgreen\");"
      ],
      "text/plain": [
       "<IPython.core.display.Javascript object>"
      ]
     },
     "metadata": {},
     "output_type": "display_data"
    },
    {
     "data": {
      "text/plain": [
       "<unittest.runner.TextTestResult run=6 errors=0 failures=0>"
      ]
     },
     "execution_count": 37,
     "metadata": {},
     "output_type": "execute_result"
    }
   ],
   "source": [
    "%%unittest_main\n",
    "import pandas as pd\n",
    "\n",
    "#(24)\n",
    "\n",
    "import csv\n",
    "csv_file_object = csv.reader(open('iris.csv', newline=''), delimiter=',')\n",
    "header = next(csv_file_object)\n",
    "data =[]\n",
    "for row in csv_file_object:\n",
    "    data.append(row)\n",
    "data=np.array(data)\n",
    "\n",
    "\n",
    "irisdata=data[0::,0:4].astype(np.float_)\n",
    "sepalLengthMean=irisdata[::,0:1:].mean()\n",
    "\n",
    "\n",
    "#(25)\n",
    "f = pd.read_csv('iris.csv')\n",
    "iristrain=f.iloc[0:75,:]\n",
    "\n",
    "\n",
    "\n",
    "#(26)\n",
    "f = pd.read_csv('iris.csv')\n",
    "iristest = f.iloc[-75:,:]\n",
    "\n",
    "\n",
    "\n",
    "#(27)\n",
    "sepalLength = f.sepalLength\n",
    "\n",
    "\n",
    "class TestPandas(unittest.TestCase):\n",
    "    def test_pandas1(self):\n",
    "        self.assertAlmostEqual(sepalLengthMean, 5.8433333333333337)\n",
    "    def test_pandas2(self):\n",
    "        self.assertTrue(iristrain.describe().sepalLength['count'] == 75.0)\n",
    "    def test_pandas3(self):\n",
    "        self.assertTrue(iristest.describe().sepalLength['count'] == 75.0)\n",
    "    def test_pandas4(self):\n",
    "        self.assertAlmostEqual(iristrain.describe().sepalLength['std'], 0.63842994352770832)\n",
    "    def test_pandas5(self):\n",
    "        self.assertAlmostEqual(iristest.describe().sepalLength['std'], 0.67988340282833903)\n",
    "    def test_pandas6(self):\n",
    "        self.assertAlmostEqual(sepalLength[134], 6.0999999999999996)\n",
    "\n"
   ]
  },
  {
   "cell_type": "code",
   "execution_count": 38,
   "metadata": {
    "collapsed": true
   },
   "outputs": [],
   "source": [
    "#This is a collection of all of the tests from the exercises above. "
   ]
  },
  {
   "cell_type": "code",
   "execution_count": 40,
   "metadata": {},
   "outputs": [
    {
     "data": {
      "application/javascript": [
       "$(':has(> #dojo-timer-time)').css(\"background-color\",\"yellow\");"
      ],
      "text/plain": [
       "<IPython.core.display.Javascript object>"
      ]
     },
     "metadata": {},
     "output_type": "display_data"
    },
    {
     "name": "stdout",
     "output_type": "stream",
     "text": [
      ".............................\n",
      "----------------------------------------------------------------------\n",
      "Ran 29 tests in 0.103s\n",
      "\n",
      "OK\n"
     ]
    },
    {
     "data": {
      "application/javascript": [
       "$(':has(> #dojo-timer-time)').css(\"background-color\",\"lightgreen\");"
      ],
      "text/plain": [
       "<IPython.core.display.Javascript object>"
      ]
     },
     "metadata": {},
     "output_type": "display_data"
    },
    {
     "data": {
      "text/plain": [
       "<unittest.runner.TextTestResult run=29 errors=0 failures=0>"
      ]
     },
     "execution_count": 40,
     "metadata": {},
     "output_type": "execute_result"
    }
   ],
   "source": [
    "%%unittest_main\n",
    "class TestAll(unittest.TestCase):\n",
    "    def test_packages1(self):\n",
    "        self.assertTrue((a == np.array([2,3,4])).all())\n",
    "    def test_packages2(self):\n",
    "        self.assertTrue((E2 == np.array([5,6,7,8])).all())\n",
    "    def test_variables(self):\n",
    "        self.assertTrue(E3 == 625)\n",
    "    def test_list1(self):\n",
    "        self.assertTrue(elists1 == [1,2,3,4,5])\n",
    "    def test_list1b(self):\n",
    "        self.assertTrue(type(elists1) == type([1,2,3,4,5]))\n",
    "    def test_list2b(self):\n",
    "        self.assertTrue(elists2 == [5,4,3,2,1])\n",
    "    def test_list3(self):\n",
    "        self.assertTrue(elists3 == [1,2,3,4,5,7,8,9])\n",
    "    def test_list4(self):\n",
    "        self.assertTrue(elists4 == [1,2,3,4,5,6,7,8,9]) \n",
    "    def test_sets1(self):\n",
    "        self.assertTrue(eset1 == {1,2,3,4,5})\n",
    "    def test_sets1b(self):\n",
    "        self.assertTrue(type(eset1) == type({1,2,3,4,5}))\n",
    "    def test_sets2b(self):\n",
    "         self.assertTrue(eset2 == {1,3,6})\n",
    "    def test_sets3(self):\n",
    "        self.assertTrue(eset3 == {2,4,5})\n",
    "    def test_set4(self):\n",
    "        self.assertTrue(eset4 == {1,2,3,4,5,6})\n",
    "    def test_set5(self):\n",
    "        self.assertTrue(eset5 == {1,3})\n",
    "    def test_dict1(self):\n",
    "        self.assertTrue(edict1 == {'st1' : 45, 'st2' : 32, 'st3' : 40, 'st4' : 31})\n",
    "    def test_dict1b(self):\n",
    "        self.assertTrue(type(edict1) == type({'st1' : 45, 'st2' : 32, 'st3' : 40, 'st4' : 31}))\n",
    "    def test_dict2(self):\n",
    "        self.assertTrue(edict2 == 40)\n",
    "    def test_numpy1(self):\n",
    "        self.assertTrue((nparray1 == np.full((3, 3), 3, dtype=int)).all())\n",
    "    def test_numpy2(self):\n",
    "         self.assertTrue(nparray1sum == 9)\n",
    "    def test_numpy3(self):\n",
    "        self.assertTrue(nparray1mean == 3.0)\n",
    "    def test_numpy4(self):\n",
    "        self.assertTrue((nparray2 == np.array([3,3,3])).all())\n",
    "    def test_numpy5(self):\n",
    "        self.assertTrue((nparray3 == np.full((3, 3), 6, dtype=int)).all())\n",
    "    def test_numpy6(self):\n",
    "        stacked=np.array([3,3,3,3,3,3,3,3,3,6,6,6,6,6,6,6,6,6]).reshape(6,3)\n",
    "        self.assertTrue((nparray4 == stacked).all())\n",
    "    def test_pandas1(self):\n",
    "        self.assertAlmostEqual(sepalLengthMean, 5.8433333333333337)\n",
    "    def test_pandas2(self):\n",
    "        self.assertTrue(iristrain.describe().sepalLength['count'] == 75.0)\n",
    "    def test_pandas3(self):\n",
    "        self.assertTrue(iristest.describe().sepalLength['count'] == 75.0)\n",
    "    def test_pandas4(self):\n",
    "        self.assertAlmostEqual(iristrain.describe().sepalLength['std'], 0.63842994352770832)\n",
    "    def test_pandas5(self):\n",
    "        self.assertAlmostEqual(iristest.describe().sepalLength['std'], 0.67988340282833903)\n",
    "    def test_pandas6(self):\n",
    "        self.assertAlmostEqual(sepalLength[134], 6.0999999999999996)"
   ]
  },
  {
   "cell_type": "code",
   "execution_count": null,
   "metadata": {
    "collapsed": true
   },
   "outputs": [],
   "source": []
  },
  {
   "cell_type": "code",
   "execution_count": null,
   "metadata": {
    "collapsed": true
   },
   "outputs": [],
   "source": []
  },
  {
   "cell_type": "code",
   "execution_count": null,
   "metadata": {
    "collapsed": true
   },
   "outputs": [],
   "source": []
  }
 ],
 "metadata": {
  "anaconda-cloud": {},
  "celltoolbar": "Slideshow",
  "kernelspec": {
   "display_name": "Python 3",
   "language": "python",
   "name": "python3"
  },
  "language_info": {
   "codemirror_mode": {
    "name": "ipython",
    "version": 3
   },
   "file_extension": ".py",
   "mimetype": "text/x-python",
   "name": "python",
   "nbconvert_exporter": "python",
   "pygments_lexer": "ipython3",
   "version": "3.6.1"
  }
 },
 "nbformat": 4,
 "nbformat_minor": 1
}
